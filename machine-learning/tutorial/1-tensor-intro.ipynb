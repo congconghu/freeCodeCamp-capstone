{
 "cells": [
  {
   "cell_type": "code",
   "execution_count": 1,
   "metadata": {},
   "outputs": [
    {
     "name": "stderr",
     "output_type": "stream",
     "text": [
      "2023-09-22 21:54:40.493754: I tensorflow/core/platform/cpu_feature_guard.cc:182] This TensorFlow binary is optimized to use available CPU instructions in performance-critical operations.\n",
      "To enable the following instructions: AVX2 FMA, in other operations, rebuild TensorFlow with the appropriate compiler flags.\n"
     ]
    },
    {
     "name": "stdout",
     "output_type": "stream",
     "text": [
      "2.13.0\n"
     ]
    }
   ],
   "source": [
    "import tensorflow as tf\n",
    "print(tf.__version__)"
   ]
  },
  {
   "cell_type": "markdown",
   "metadata": {},
   "source": [
    "# Tensor Introduction\n",
    "\n",
    "### What is Tensor?\n",
    "Tensors are multi-dimensional arrays with a uniform type (called a dtype)."
   ]
  },
  {
   "cell_type": "markdown",
   "metadata": {},
   "source": [
    "### Create Tensors"
   ]
  },
  {
   "cell_type": "code",
   "execution_count": 2,
   "metadata": {},
   "outputs": [
    {
     "name": "stdout",
     "output_type": "stream",
     "text": [
      "<tf.Variable 'Variable:0' shape=() dtype=string, numpy=b'this is a string'>\n",
      "<tf.Variable 'Variable:0' shape=() dtype=int32, numpy=27>\n",
      "<tf.Variable 'Variable:0' shape=() dtype=float32, numpy=23.922>\n"
     ]
    }
   ],
   "source": [
    "string = tf.Variable(\"this is a string\", tf.string)\n",
    "number = tf.Variable(27, tf.int8)\n",
    "float = tf.Variable(23.922, tf.float64)\n",
    "print(string, number, float, sep='\\n')"
   ]
  },
  {
   "cell_type": "markdown",
   "metadata": {},
   "source": [
    "### Rank/Degree of Tensors\n",
    "dimenstion of the matrices"
   ]
  },
  {
   "cell_type": "code",
   "execution_count": 3,
   "metadata": {},
   "outputs": [
    {
     "name": "stdout",
     "output_type": "stream",
     "text": [
      "The rank of rank0_tensor is 0\n",
      "The rank of rank1_tensor is 1\n",
      "The rank of rank2_tensor is 2\n"
     ]
    }
   ],
   "source": [
    "rank0_tensor = tf.constant(1, tf.int8)\n",
    "rank1_tensor = tf.Variable([1, 2, 3, 4], tf.int8)\n",
    "rank2_tensor = tf.Variable([[1, 2], [3, 4]], tf.int8)\n",
    "print(\"The rank of rank0_tensor is {}\".format(tf.rank(rank0_tensor)))\n",
    "print(\"The rank of rank1_tensor is {}\".format(tf.rank(rank1_tensor)))\n",
    "print(\"The rank of rank2_tensor is {}\".format(tf.rank(rank2_tensor)))"
   ]
  },
  {
   "cell_type": "markdown",
   "metadata": {},
   "source": [
    "### Shape of Tensors"
   ]
  },
  {
   "cell_type": "code",
   "execution_count": 4,
   "metadata": {},
   "outputs": [
    {
     "data": {
      "text/plain": [
       "TensorShape([2, 2])"
      ]
     },
     "execution_count": 4,
     "metadata": {},
     "output_type": "execute_result"
    }
   ],
   "source": [
    "rank2_tensor.shape"
   ]
  },
  {
   "cell_type": "markdown",
   "metadata": {},
   "source": [
    "### Changing Shape"
   ]
  },
  {
   "cell_type": "code",
   "execution_count": 5,
   "metadata": {},
   "outputs": [
    {
     "name": "stdout",
     "output_type": "stream",
     "text": [
      "<tf.Variable 'Variable:0' shape=(6,) dtype=int32, numpy=array([0, 1, 2, 3, 4, 5], dtype=int32)>\n",
      "tf.Tensor(\n",
      "[[[0 1 2]\n",
      "  [3 4 5]]], shape=(1, 2, 3), dtype=int32)\n",
      "tf.Tensor(\n",
      "[[[0]\n",
      "  [1]]\n",
      "\n",
      " [[2]\n",
      "  [3]]\n",
      "\n",
      " [[4]\n",
      "  [5]]], shape=(3, 2, 1), dtype=int32)\n",
      "tf.Tensor(\n",
      "[[0 1]\n",
      " [2 3]\n",
      " [4 5]], shape=(3, 2), dtype=int32)\n"
     ]
    }
   ],
   "source": [
    "tensor1 = tf.Variable(range(6), tf.int8)\n",
    "tensor2 = tf.reshape(tensor1, [1, 2, 3])\n",
    "tensor3 = tf.reshape(tensor1, [3, 2, 1])\n",
    "tensor4= tf.reshape(tensor1, [3, -1]) # -1 tells tensorflow to calculate the size of the dimension\n",
    "print(tensor1, tensor2, tensor3, tensor4, sep='\\n')"
   ]
  },
  {
   "cell_type": "markdown",
   "metadata": {},
   "source": [
    "### Types of Tensors\n",
    "* Variable\n",
    "* Constant\n",
    "* Placeholder\n",
    "* SparseTensor\n",
    "\n",
    "Only `Varaible` is mutable."
   ]
  }
 ],
 "metadata": {
  "kernelspec": {
   "display_name": ".venv",
   "language": "python",
   "name": "python3"
  },
  "language_info": {
   "codemirror_mode": {
    "name": "ipython",
    "version": 3
   },
   "file_extension": ".py",
   "mimetype": "text/x-python",
   "name": "python",
   "nbconvert_exporter": "python",
   "pygments_lexer": "ipython3",
   "version": "3.9.13"
  },
  "orig_nbformat": 4
 },
 "nbformat": 4,
 "nbformat_minor": 2
}
